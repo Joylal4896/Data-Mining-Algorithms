{
 "cells": [
  {
   "cell_type": "code",
   "execution_count": 1,
   "metadata": {
    "collapsed": true
   },
   "outputs": [],
   "source": [
    "from matplotlib import pyplot as plt\n",
    "import numpy as np\n",
    "%matplotlib inline"
   ]
  },
  {
   "cell_type": "markdown",
   "metadata": {},
   "source": [
    "# Rosenbrock function"
   ]
  },
  {
   "cell_type": "code",
   "execution_count": 2,
   "metadata": {
    "collapsed": true
   },
   "outputs": [],
   "source": [
    "def rosenbrock(X, Y):\n",
    "    return 100*(X**2 - Y)**2 + (1 - X)**2"
   ]
  },
  {
   "cell_type": "code",
   "execution_count": 3,
   "metadata": {
    "collapsed": false
   },
   "outputs": [],
   "source": [
    "x = np.arange(-3, 3, 0.01)\n",
    "y = np.arange(-3, 3, 0.01)\n",
    "X, Y = np.meshgrid(x, y)\n",
    "Z = rosenbrock(X, Y)"
   ]
  },
  {
   "cell_type": "markdown",
   "metadata": {},
   "source": [
    "### Contour Plot"
   ]
  },
  {
   "cell_type": "code",
   "execution_count": 4,
   "metadata": {
    "collapsed": false
   },
   "outputs": [
    {
     "data": {
      "image/png": "[encoded data removed]",
      "text/plain": [
       "<matplotlib.figure.Figure at 0x1f3361ebb38>"
      ]
     },
     "metadata": {},
     "output_type": "display_data"
    }
   ],
   "source": [
    "plt.figure(figsize=(8, 6))\n",
    "CS = plt.contourf(X, Y, Z, np.logspace(-3, 3, 50))\n",
    "cbar = plt.colorbar(CS)\n",
    "plt.show()"
   ]
  },
  {
   "cell_type": "markdown",
   "metadata": {},
   "source": [
    "# Simulated Annealing"
   ]
  },
  {
   "cell_type": "code",
   "execution_count": 71,
   "metadata": {
    "collapsed": false
   },
   "outputs": [],
   "source": [
    "class simulatedAnnealing(object):\n",
    "    \n",
    "    def __init__(self, temp, delTemp, freezPoint):\n",
    "        self.temp = temp\n",
    "        self.delTemp = delTemp\n",
    "        self.freezPoint = freezPoint\n",
    "        self.X = np.random.uniform(low=-2.78, high=2.78, size=2)\n",
    "        \n",
    "    def minFunction(self, X):\n",
    "        return X[0]**2 + X[1]**2\n",
    "    \n",
    "    def prob(self, delF):\n",
    "        return np.exp(-delF/self.temp)\n",
    "    \n",
    "    def randDels(self):\n",
    "        return (np.random.random_sample(2) - 0.5)/100\n",
    "    \n",
    "    def inrange(self, X):\n",
    "        if X[0] < 2.78 and X[0] > -2.78 and X[1] < 2.78 and X[1] > -2.78:\n",
    "            return True\n",
    "        else:\n",
    "            return False\n",
    "                \n",
    "    def fit(self):\n",
    "        while(self.temp > self.freezPoint):\n",
    "            n_iterations = 10\n",
    "            self.probableX = self.X\n",
    "            self.minX = self.X\n",
    "            \n",
    "            while(n_iterations>0):\n",
    "                n_iterations -= 1\n",
    "                delX = self.randDels()\n",
    "                newX = self.probableX + delX\n",
    "                newVal = self.minFunction(newX)\n",
    "                oldVal = self.minFunction(self.probableX)\n",
    "                \n",
    "                if newVal < oldVal and self.inrange(newX):\n",
    "                    self.probableX = newX\n",
    "                    self.minX = newX\n",
    "\n",
    "                else:\n",
    "                    probab = self.prob(newVal - oldVal)\n",
    "                    if probab > 0.6 and self.inrange(newX):\n",
    "                        self.probableX = newX\n",
    "                \n",
    "            self.X = self.minX\n",
    "            self.temp -= self.delTemp         \n",
    "            \n",
    "    def results(self):\n",
    "        return self.X, self.minFunction(self.X)"
   ]
  },
  {
   "cell_type": "code",
   "execution_count": 72,
   "metadata": {
    "collapsed": false
   },
   "outputs": [],
   "source": [
    "an = simulatedAnnealing(temp=100, delTemp=0.01, freezPoint=0.01)"
   ]
  },
  {
   "cell_type": "code",
   "execution_count": 73,
   "metadata": {
    "collapsed": false
   },
   "outputs": [],
   "source": [
    "an.fit()"
   ]
  },
  {
   "cell_type": "code",
   "execution_count": 74,
   "metadata": {
    "collapsed": false
   },
   "outputs": [
    {
     "data": {
      "text/plain": [
       "(array([ 0.00063134,  0.0016794 ]), 3.2189722878325389e-06)"
      ]
     },
     "execution_count": 74,
     "metadata": {},
     "output_type": "execute_result"
    }
   ],
   "source": [
    "an.results()"
   ]
  },
  {
   "cell_type": "code",
   "execution_count": 76,
   "metadata": {
    "collapsed": false
   },
   "outputs": [
    {
     "name": "stdout",
     "output_type": "stream",
     "text": [
      "Iteration  1  : Result:  0.000169299527445\n",
      "Iteration  2  : Result:  0.000529377488974\n",
      "Iteration  3  : Result:  0.000341325756496\n",
      "Iteration  4  : Result:  0.00129157442603\n",
      "Iteration  5  : Result:  0.000105209871666\n",
      "Iteration  6  : Result:  0.00149579614172\n",
      "Iteration  7  : Result:  0.000820578382764\n",
      "Iteration  8  : Result:  0.00597141069435\n",
      "Iteration  9  : Result:  0.000978599596411\n",
      "Iteration  10  : Result:  0.000120631091891\n",
      "\n",
      "Average Value :  0.000394126765925\n"
     ]
    }
   ],
   "source": [
    "avg = 0.0\n",
    "for i in range(0, 10):\n",
    "    an = simulatedAnnealing(temp=100, delTemp=0.01, freezPoint=0.001)\n",
    "    an.fit()\n",
    "    vals, res = an.results()\n",
    "    avg += res\n",
    "    print(\"Iteration \", i + 1, \" : Result: \", res)\n",
    "print(\"\\nAverage Value : \", avg/30)"
   ]
  },
  {
   "cell_type": "code",
   "execution_count": null,
   "metadata": {
    "collapsed": true
   },
   "outputs": [],
   "source": []
  }
 ],
 "metadata": {
  "anaconda-cloud": {},
  "kernelspec": {
   "display_name": "Python 3",
   "language": "python",
   "name": "python3"
  },
  "language_info": {
   "codemirror_mode": {
    "name": "ipython",
    "version": 3
   },
   "file_extension": ".py",
   "mimetype": "text/x-python",
   "name": "python",
   "nbconvert_exporter": "python",
   "pygments_lexer": "ipython3",
   "version": "3.6.0"
  }
 },
 "nbformat": 4,
 "nbformat_minor": 0
}
