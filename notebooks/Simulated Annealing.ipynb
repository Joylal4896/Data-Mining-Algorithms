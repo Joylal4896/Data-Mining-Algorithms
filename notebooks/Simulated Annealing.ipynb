{
 "cells": [
  {
   "cell_type": "code",
   "execution_count": 1,
   "metadata": {
    "collapsed": true
   },
   "outputs": [],
   "source": [
    "from matplotlib import pyplot as plt\n",
    "import numpy as np\n",
    "%matplotlib inline"
   ]
  },
  {
   "cell_type": "markdown",
   "metadata": {},
   "source": [
    "# Rosenbrock function"
   ]
  },
  {
   "cell_type": "code",
   "execution_count": 2,
   "metadata": {
    "collapsed": true
   },
   "outputs": [],
   "source": [
    "def rosenbrock(X, Y):\n",
    "    return 100*(X**2 - Y)**2 + (1 - X)**2"
   ]
  },
  {
   "cell_type": "code",
   "execution_count": 3,
   "metadata": {
    "collapsed": false
   },
   "outputs": [],
   "source": [
    "x = np.arange(-3, 3, 0.01)\n",
    "y = np.arange(-3, 3, 0.01)\n",
    "X, Y = np.meshgrid(x, y)\n",
    "Z = rosenbrock(X, Y)"
   ]
  },
  {
   "cell_type": "markdown",
   "metadata": {},
   "source": [
    "### Contour Plot"
   ]
  },
  {
   "cell_type": "code",
   "execution_count": 4,
   "metadata": {
    "collapsed": false
   },
   "outputs": [
    {
     "data": {
      "image/png": "[encoded data removed]",
      "text/plain": [
       "<matplotlib.figure.Figure at 0x191520d7f0>"
      ]
     },
     "metadata": {},
     "output_type": "display_data"
    }
   ],
   "source": [
    "plt.figure(figsize=(8, 6))\n",
    "CS = plt.contourf(X, Y, Z, np.logspace(-3, 3, 50))\n",
    "cbar = plt.colorbar(CS)\n",
    "plt.show()"
   ]
  },
  {
   "cell_type": "markdown",
   "metadata": {},
   "source": [
    "# Simulated Annealing"
   ]
  },
  {
   "cell_type": "code",
   "execution_count": 251,
   "metadata": {
    "collapsed": false
   },
   "outputs": [],
   "source": [
    "class simulatedAnnealing(object):\n",
    "    \n",
    "    def __init__(self, temp, delTemp, freezPoint):\n",
    "        self.temp = temp\n",
    "        self.delTemp = delTemp\n",
    "        self.freezPoint = freezPoint\n",
    "        self.X = np.random.uniform(low=-2.78, high=2.78, size=2)\n",
    "        \n",
    "    def minFunction(self, X):\n",
    "        return X[0]**2 + X[1]**2\n",
    "    \n",
    "    def prob(self, delF):\n",
    "        return np.exp(-delF/self.temp)\n",
    "    \n",
    "    def randDels(self):\n",
    "        return (np.random.random_sample(2) - 0.5)\n",
    "    \n",
    "    def inrange(self, X):\n",
    "        '''\n",
    "        if X[0] < 2.78 and X[0] > -2.78 and X[1] < 2.78 and X[1] > -2.78:\n",
    "            return True\n",
    "        else:\n",
    "            return False\n",
    "        '''\n",
    "        return True\n",
    "                \n",
    "    def move(self):\n",
    "        probs = []\n",
    "        while(self.temp > self.freezPoint):\n",
    "            n = 50\n",
    "            self.probX = self.X\n",
    "            self.minX = self.X\n",
    "            while(n>0):\n",
    "                delX = self.randDels()\n",
    "                newX = self.probX + delX\n",
    "                newVal = self.minFunction(newX)\n",
    "                oldVal = self.minFunction(self.probX)\n",
    "                if newVal < oldVal and self.inrange(newX):\n",
    "                    self.probX = newX\n",
    "                    self.minX = newX\n",
    "                    #print(self.X, self.minFunction(self.X))\n",
    "                else:\n",
    "                    probab = self.prob(newVal - oldVal)\n",
    "                    if probab > 0.6 and self.inrange(newX):\n",
    "                        self.probX = newX\n",
    "                        #print(self.X, self.minFunction(self.X), probab)\n",
    "                        #print(self.X, self.minFunction(self.X), probab)\n",
    "                n -= 1\n",
    "            probs.append(self.prob(self.minFunction(self.X) - self.minFunction(self.minX)))\n",
    "            self.X = self.minX\n",
    "            self.temp -= self.delTemp\n",
    "        return probs\n",
    "            \n",
    "            \n",
    "    def results(self):\n",
    "        return self.X, self.minFunction(self.X)"
   ]
  },
  {
   "cell_type": "code",
   "execution_count": 252,
   "metadata": {
    "collapsed": false
   },
   "outputs": [],
   "source": [
    "an = simulatedAnnealing(temp=10000, delTemp=10, freezPoint=10)"
   ]
  },
  {
   "cell_type": "code",
   "execution_count": 253,
   "metadata": {
    "collapsed": false
   },
   "outputs": [],
   "source": [
    "probs = an.move()"
   ]
  },
  {
   "cell_type": "code",
   "execution_count": 254,
   "metadata": {
    "collapsed": false
   },
   "outputs": [
    {
     "data": {
      "text/plain": [
       "(array([-5.48877862,  7.92743623]), 92.970936023235865)"
      ]
     },
     "execution_count": 254,
     "metadata": {},
     "output_type": "execute_result"
    }
   ],
   "source": [
    "an.results()"
   ]
  },
  {
   "cell_type": "code",
   "execution_count": 255,
   "metadata": {
    "collapsed": false
   },
   "outputs": [
    {
     "data": {
      "text/plain": [
       "(0, 5)"
      ]
     },
     "execution_count": 255,
     "metadata": {},
     "output_type": "execute_result"
    },
    {
     "data": {
      "image/png": "[encoded data removed]",
      "text/plain": [
       "<matplotlib.figure.Figure at 0x191b2b1c50>"
      ]
     },
     "metadata": {},
     "output_type": "display_data"
    }
   ],
   "source": [
    "plt.plot(probs)\n",
    "plt.ylim((0, 5))"
   ]
  },
  {
   "cell_type": "code",
   "execution_count": 256,
   "metadata": {
    "collapsed": false
   },
   "outputs": [
    {
     "name": "stdout",
     "output_type": "stream",
     "text": [
      "Iteration  0  : Result:  162.421486752\n",
      "Iteration  1  : Result:  101.372473834\n",
      "Iteration  2  : Result:  16.2258943957\n",
      "Iteration  3  : Result:  224.081037685\n",
      "Iteration  4  : Result:  22.1561296048\n",
      "Iteration  5  : Result:  120.011909149\n",
      "Iteration  6  : Result:  16.5670925733\n",
      "Iteration  7  : Result:  35.0159992799\n",
      "Iteration  8  : Result:  86.994627935\n",
      "Iteration  9  : Result:  122.585824344\n",
      "Iteration  10  : Result:  155.888006442\n",
      "Iteration  11  : Result:  27.0809555011\n",
      "Iteration  12  : Result:  648.623789945\n",
      "Iteration  13  : Result:  256.868475146\n",
      "Iteration  14  : Result:  335.829614654\n",
      "Iteration  15  : Result:  141.903029812\n",
      "Iteration  16  : Result:  135.257344833\n",
      "Iteration  17  : Result:  381.300420887\n",
      "Iteration  18  : Result:  155.254343487\n",
      "Iteration  19  : Result:  33.6200172356\n",
      "Iteration  20  : Result:  38.6166395536\n",
      "Iteration  21  : Result:  86.7190019725\n",
      "Iteration  22  : Result:  0.266548163052\n",
      "Iteration  23  : Result:  21.6781786518\n",
      "Iteration  24  : Result:  282.073093113\n",
      "Iteration  25  : Result:  5.55369887679\n",
      "Iteration  26  : Result:  41.7197034285\n",
      "Iteration  27  : Result:  26.5460625198\n",
      "Iteration  28  : Result:  141.458663112\n",
      "Iteration  29  : Result:  188.098611272\n",
      "133.726289139\n"
     ]
    }
   ],
   "source": [
    "avg = 0.0\n",
    "for i in range(0, 30):\n",
    "    an = simulatedAnnealing(temp=10000, delTemp=10, freezPoint=10)\n",
    "    probs = an.move()\n",
    "    vals, res = an.results()\n",
    "    avg += res\n",
    "    print(\"Iteration \", i, \" : Result: \", res)\n",
    "print(avg/30)"
   ]
  },
  {
   "cell_type": "code",
   "execution_count": null,
   "metadata": {
    "collapsed": true
   },
   "outputs": [],
   "source": []
  }
 ],
 "metadata": {
  "anaconda-cloud": {},
  "kernelspec": {
   "display_name": "Python [Root]",
   "language": "python",
   "name": "Python [Root]"
  },
  "language_info": {
   "codemirror_mode": {
    "name": "ipython",
    "version": 3
   },
   "file_extension": ".py",
   "mimetype": "text/x-python",
   "name": "python",
   "nbconvert_exporter": "python",
   "pygments_lexer": "ipython3",
   "version": "3.5.1"
  }
 },
 "nbformat": 4,
 "nbformat_minor": 0
}
