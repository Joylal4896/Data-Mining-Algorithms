{
 "cells": [
  {
   "cell_type": "code",
   "execution_count": 1,
   "metadata": {
    "collapsed": true
   },
   "outputs": [],
   "source": [
    "from matplotlib import pyplot as plt\n",
    "import numpy as np\n",
    "%matplotlib inline"
   ]
  },
  {
   "cell_type": "markdown",
   "metadata": {},
   "source": [
    "# Rosenbrock function"
   ]
  },
  {
   "cell_type": "code",
   "execution_count": 2,
   "metadata": {
    "collapsed": true
   },
   "outputs": [],
   "source": [
    "def rosenbrock(X, Y):\n",
    "    return 100*(X**2 - Y)**2 + (1 - X)**2"
   ]
  },
  {
   "cell_type": "code",
   "execution_count": 3,
   "metadata": {
    "collapsed": false
   },
   "outputs": [],
   "source": [
    "x = np.arange(-3, 3, 0.01)\n",
    "y = np.arange(-3, 3, 0.01)\n",
    "X, Y = np.meshgrid(x, y)\n",
    "Z = rosenbrock(X, Y)"
   ]
  },
  {
   "cell_type": "markdown",
   "metadata": {},
   "source": [
    "### Contour Plot"
   ]
  },
  {
   "cell_type": "code",
   "execution_count": 4,
   "metadata": {
    "collapsed": false
   },
   "outputs": [
    {
     "data": {
      "image/png": "[encoded data removed]",
      "text/plain": [
       "<matplotlib.figure.Figure at 0x1941c9e9a58>"
      ]
     },
     "metadata": {},
     "output_type": "display_data"
    }
   ],
   "source": [
    "plt.figure(figsize=(8, 6))\n",
    "CS = plt.contourf(X, Y, Z, np.logspace(-3, 3, 50))\n",
    "cbar = plt.colorbar(CS)\n",
    "plt.show()"
   ]
  },
  {
   "cell_type": "markdown",
   "metadata": {},
   "source": [
    "# Simulated Annealing"
   ]
  },
  {
   "cell_type": "code",
   "execution_count": 5,
   "metadata": {
    "collapsed": false
   },
   "outputs": [],
   "source": [
    "class simulatedAnnealing(object):\n",
    "    \n",
    "    def __init__(self, temp, delTemp, freezPoint):\n",
    "        self.temp = temp\n",
    "        self.delTemp = delTemp\n",
    "        self.freezPoint = freezPoint\n",
    "        self.X = np.random.uniform(low=-2.78, high=2.78, size=2)\n",
    "        \n",
    "    def minFunction(self, X):\n",
    "        return X[0]**2 + X[1]**2\n",
    "    \n",
    "    def prob(self, delF):\n",
    "        return np.exp(-delF/self.temp)\n",
    "    \n",
    "    def randDels(self):\n",
    "        return (np.random.random_sample(2) - 0.5)\n",
    "    \n",
    "    def inrange(self, X):\n",
    "        if X[0] < 2.78 and X[0] > -2.78 and X[1] < 2.78 and X[1] > -2.78:\n",
    "            return True\n",
    "        else:\n",
    "            return False\n",
    "                \n",
    "    def move(self):\n",
    "        probs = []\n",
    "        while(self.temp > self.freezPoint):\n",
    "            n = 50\n",
    "            self.probX = self.X\n",
    "            self.minX = self.X\n",
    "            while(n>0):\n",
    "                delX = self.randDels()\n",
    "                newX = self.probX + delX\n",
    "                newVal = self.minFunction(newX)\n",
    "                oldVal = self.minFunction(self.probX)\n",
    "                if newVal < oldVal and self.inrange(newX):\n",
    "                    self.probX = newX\n",
    "                    self.minX = newX\n",
    "                    #print(self.X, self.minFunction(self.X))\n",
    "                else:\n",
    "                    probab = self.prob(newVal - oldVal)\n",
    "                    if probab > 0.6 and self.inrange(newX):\n",
    "                        self.probX = newX\n",
    "                        #print(self.X, self.minFunction(self.X), probab)\n",
    "                        #print(self.X, self.minFunction(self.X), probab)\n",
    "                n -= 1\n",
    "            probs.append(self.prob(self.minFunction(self.X) - self.minFunction(self.minX)))\n",
    "            self.X = self.minX\n",
    "            self.temp -= self.delTemp\n",
    "        return probs\n",
    "            \n",
    "            \n",
    "    def results(self):\n",
    "        return self.X, self.minFunction(self.X)"
   ]
  },
  {
   "cell_type": "code",
   "execution_count": 22,
   "metadata": {
    "collapsed": false
   },
   "outputs": [],
   "source": [
    "an = simulatedAnnealing(temp=100, delTemp=0.05, freezPoint=0.01)"
   ]
  },
  {
   "cell_type": "code",
   "execution_count": 23,
   "metadata": {
    "collapsed": false
   },
   "outputs": [],
   "source": [
    "probs = an.move()"
   ]
  },
  {
   "cell_type": "code",
   "execution_count": 24,
   "metadata": {
    "collapsed": false
   },
   "outputs": [
    {
     "data": {
      "text/plain": [
       "(array([ 0.15535296,  0.02141338]), 0.024593075247909178)"
      ]
     },
     "execution_count": 24,
     "metadata": {},
     "output_type": "execute_result"
    }
   ],
   "source": [
    "an.results()"
   ]
  },
  {
   "cell_type": "code",
   "execution_count": 25,
   "metadata": {
    "collapsed": false
   },
   "outputs": [
    {
     "data": {
      "text/plain": [
       "(0, 5)"
      ]
     },
     "execution_count": 25,
     "metadata": {},
     "output_type": "execute_result"
    },
    {
     "data": {
      "image/png": "[encoded data removed]",
      "text/plain": [
       "<matplotlib.figure.Figure at 0x1941dd7a9e8>"
      ]
     },
     "metadata": {},
     "output_type": "display_data"
    }
   ],
   "source": [
    "plt.plot(probs)\n",
    "plt.ylim((0, 5))"
   ]
  },
  {
   "cell_type": "code",
   "execution_count": 21,
   "metadata": {
    "collapsed": false
   },
   "outputs": [
    {
     "name": "stdout",
     "output_type": "stream",
     "text": [
      "Iteration  0  : Result:  0.000256616466006\n",
      "Iteration  1  : Result:  0.00189069139771\n",
      "Iteration  2  : Result:  0.00654087225257\n",
      "Iteration  3  : Result:  0.0113349130183\n",
      "Iteration  4  : Result:  0.00383715765708\n",
      "Iteration  5  : Result:  0.000115302472756\n",
      "Iteration  6  : Result:  0.0034831864613\n",
      "Iteration  7  : Result:  0.00609616563882\n",
      "Iteration  8  : Result:  3.7754845501e-05\n",
      "Iteration  9  : Result:  0.00496556138535\n",
      "Iteration  10  : Result:  0.000396707426574\n",
      "Iteration  11  : Result:  0.0432914181377\n",
      "Iteration  12  : Result:  0.0124824867858\n",
      "Iteration  13  : Result:  0.02251655948\n",
      "Iteration  14  : Result:  0.00118262816998\n",
      "Iteration  15  : Result:  0.00228865828484\n",
      "Iteration  16  : Result:  0.00288956136329\n",
      "Iteration  17  : Result:  0.0292248532247\n",
      "Iteration  18  : Result:  0.0178005808249\n",
      "Iteration  19  : Result:  0.00733640392328\n",
      "Iteration  20  : Result:  0.000622531014128\n",
      "Iteration  21  : Result:  0.0332940857673\n",
      "Iteration  22  : Result:  0.000231829616255\n",
      "Iteration  23  : Result:  0.00194672079522\n",
      "Iteration  24  : Result:  0.0140310491295\n",
      "Iteration  25  : Result:  0.0253580775304\n",
      "Iteration  26  : Result:  0.00114945782434\n",
      "Iteration  27  : Result:  0.00865503664072\n",
      "Iteration  28  : Result:  0.00787883999657\n",
      "Iteration  29  : Result:  0.00732869101075\n",
      "0.00928214661806\n"
     ]
    }
   ],
   "source": [
    "avg = 0.0\n",
    "for i in range(0, 30):\n",
    "    an = simulatedAnnealing(temp=100, delTemp=0.05, freezPoint=0.01)\n",
    "    probs = an.move()\n",
    "    vals, res = an.results()\n",
    "    avg += res\n",
    "    print(\"Iteration \", i, \" : Result: \", res)\n",
    "print(avg/30)"
   ]
  },
  {
   "cell_type": "code",
   "execution_count": null,
   "metadata": {
    "collapsed": true
   },
   "outputs": [],
   "source": []
  }
 ],
 "metadata": {
  "anaconda-cloud": {},
  "kernelspec": {
   "display_name": "Python 3",
   "language": "python",
   "name": "python3"
  },
  "language_info": {
   "codemirror_mode": {
    "name": "ipython",
    "version": 3
   },
   "file_extension": ".py",
   "mimetype": "text/x-python",
   "name": "python",
   "nbconvert_exporter": "python",
   "pygments_lexer": "ipython3",
   "version": "3.6.0"
  }
 },
 "nbformat": 4,
 "nbformat_minor": 0
}
