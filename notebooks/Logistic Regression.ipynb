{
 "cells": [
  {
   "cell_type": "code",
   "execution_count": 98,
   "metadata": {
    "collapsed": false
   },
   "outputs": [],
   "source": [
    "from sklearn import datasets\n",
    "from sklearn.preprocessing import StandardScaler\n",
    "from sklearn.cross_validation import train_test_split\n",
    "from sklearn.metrics import accuracy_score\n",
    "import numpy as np\n",
    "import math"
   ]
  },
  {
   "cell_type": "markdown",
   "metadata": {},
   "source": [
    "## Load and Scale Data"
   ]
  },
  {
   "cell_type": "code",
   "execution_count": 132,
   "metadata": {
    "collapsed": true
   },
   "outputs": [],
   "source": [
    "iris = datasets.load_iris()"
   ]
  },
  {
   "cell_type": "code",
   "execution_count": 170,
   "metadata": {
    "collapsed": false
   },
   "outputs": [],
   "source": [
    "scaler = StandardScaler()\n",
    "iris_scaled = scaler.fit_transform(iris.data)\n",
    "\n",
    "data = iris_scaled\n",
    "labels = [0 if target == 2 else 1 for target in iris.target]"
   ]
  },
  {
   "cell_type": "code",
   "execution_count": 171,
   "metadata": {
    "collapsed": false
   },
   "outputs": [],
   "source": [
    "# add bias to the data\n",
    "bias_column = np.array([[1]*len(data)])\n",
    "data = np.append(data, bias_column.T, axis=1)"
   ]
  },
  {
   "cell_type": "code",
   "execution_count": 172,
   "metadata": {
    "collapsed": false
   },
   "outputs": [],
   "source": [
    "train_X, test_X, train_y, test_y = train_test_split(data, labels, test_size = 0.25, random_state = 49)"
   ]
  },
  {
   "cell_type": "markdown",
   "metadata": {},
   "source": [
    "## Logistic Regression Classifier"
   ]
  },
  {
   "cell_type": "code",
   "execution_count": 173,
   "metadata": {
    "collapsed": false
   },
   "outputs": [],
   "source": [
    "class LogisticRegressionClassifier(object):\n",
    "    def __init__(self, n_iterations, learning_rate):\n",
    "        self.n_iterations = n_iterations\n",
    "        self.learning_rate = learning_rate\n",
    "    \n",
    "    def sigmoid(self, x):\n",
    "        return 1.0/(1 + np.exp(-x))\n",
    "    \n",
    "    def init_weights(self):\n",
    "        self.weights =  np.random.random_sample(self.n_attributes)\n",
    "        print(self.weights)\n",
    "    \n",
    "    def calculate_penalty(self):\n",
    "        self.H = self.predict(self.X)\n",
    "        penalty = -np.sum(self.y*np.log(self.H) + (1 - self.y)*np.log(1-self.H)) / self.n_attributes\n",
    "        return penalty\n",
    "    \n",
    "    def update_weights(self):\n",
    "        delW = self.learning_rate*np.dot(self.y - self.H, self.X).T\n",
    "        self.weights += delW\n",
    "        print(self.weights)\n",
    "        \n",
    "    def predict(self, X, final=False):\n",
    "        predictions =  self.sigmoid(np.dot(self.weights.T, X.T))\n",
    "        if final:\n",
    "            predictions = [round(pred) for pred in predictions]\n",
    "        return predictions\n",
    "    \n",
    "    def train(self, X, y):\n",
    "        self.X = np.array(X)\n",
    "        self.y = np.array(y)\n",
    "        self.n_attributes = self.X.shape[1]\n",
    "        self.init_weights()\n",
    "        \n",
    "        for iteration in range(self.n_iterations):\n",
    "            self.calculate_penalty()\n",
    "            self.update_weights()\n",
    "        \n",
    "        "
   ]
  },
  {
   "cell_type": "code",
   "execution_count": 186,
   "metadata": {
    "collapsed": false
   },
   "outputs": [],
   "source": [
    "clf = LogisticRegressionClassifier(n_iterations=10, learning_rate=0.1)"
   ]
  },
  {
   "cell_type": "code",
   "execution_count": 187,
   "metadata": {
    "collapsed": false
   },
   "outputs": [
    {
     "name": "stdout",
     "output_type": "stream",
     "text": [
      "[ 0.57498366  0.02244312  0.54454813  0.3192111   0.81237296]\n",
      "[-5.71004411  1.31689012 -6.22266677 -6.54591801  1.3101815 ]\n",
      "[-4.70194091  0.48199002 -5.18840246 -5.8332211   3.83758897]\n",
      "[-3.5950598   0.12475908 -4.37618117 -5.25387361  5.53481319]\n",
      "[-2.73832614  0.06251635 -3.89210179 -4.91212106  6.50159401]\n",
      "[-2.31969075  0.32578553 -3.87843793 -4.93978287  6.66076698]\n",
      "[-2.02091081  0.58354641 -3.93856044 -5.0232358   6.6897154 ]\n",
      "[-1.76492315  0.78651238 -3.99047575 -5.09477716  6.72034087]\n",
      "[-1.54633057  0.94779552 -4.03977176 -5.16068387  6.74744477]\n",
      "[-1.35761476  1.07656999 -4.08726136 -5.2225068   6.77226454]\n",
      "[-1.19306507  1.18025101 -4.13357602 -5.28124385  6.79557735]\n"
     ]
    }
   ],
   "source": [
    "clf.train(train_X, train_y)"
   ]
  },
  {
   "cell_type": "code",
   "execution_count": 188,
   "metadata": {
    "collapsed": false
   },
   "outputs": [],
   "source": [
    "predictions = clf.predict(test_X, True)"
   ]
  },
  {
   "cell_type": "code",
   "execution_count": 189,
   "metadata": {
    "collapsed": false
   },
   "outputs": [
    {
     "data": {
      "text/plain": [
       "0.94736842105263153"
      ]
     },
     "execution_count": 189,
     "metadata": {},
     "output_type": "execute_result"
    }
   ],
   "source": [
    "accuracy_score(test_y, predictions)"
   ]
  },
  {
   "cell_type": "code",
   "execution_count": null,
   "metadata": {
    "collapsed": true
   },
   "outputs": [],
   "source": []
  }
 ],
 "metadata": {
  "anaconda-cloud": {},
  "kernelspec": {
   "display_name": "Python 3",
   "language": "python",
   "name": "python3"
  },
  "language_info": {
   "codemirror_mode": {
    "name": "ipython",
    "version": 3
   },
   "file_extension": ".py",
   "mimetype": "text/x-python",
   "name": "python",
   "nbconvert_exporter": "python",
   "pygments_lexer": "ipython3",
   "version": "3.6.0"
  }
 },
 "nbformat": 4,
 "nbformat_minor": 0
}
