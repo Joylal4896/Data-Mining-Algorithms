{
 "cells": [
  {
   "cell_type": "code",
   "execution_count": 1,
   "metadata": {
    "collapsed": false
   },
   "outputs": [
    {
     "name": "stderr",
     "output_type": "stream",
     "text": [
      "C:\\Users\\JoyLal\\Anaconda3\\lib\\site-packages\\sklearn\\cross_validation.py:44: DeprecationWarning: This module was deprecated in version 0.18 in favor of the model_selection module into which all the refactored classes and functions are moved. Also note that the interface of the new CV iterators are different from that of this module. This module will be removed in 0.20.\n",
      "  \"This module will be removed in 0.20.\", DeprecationWarning)\n"
     ]
    }
   ],
   "source": [
    "from sklearn import datasets\n",
    "from sklearn.preprocessing import StandardScaler\n",
    "from sklearn.cross_validation import train_test_split\n",
    "from sklearn.metrics.pairwise import euclidean_distances\n",
    "from sklearn.metrics import accuracy_score\n",
    "import numpy as np\n",
    "import math\n",
    "import random\n",
    "import warnings\n",
    "from matplotlib import pyplot as plt\n",
    "%matplotlib inline"
   ]
  },
  {
   "cell_type": "markdown",
   "metadata": {},
   "source": [
    "# Data"
   ]
  },
  {
   "cell_type": "code",
   "execution_count": 2,
   "metadata": {
    "collapsed": true
   },
   "outputs": [],
   "source": [
    "iris = datasets.load_iris()"
   ]
  },
  {
   "cell_type": "code",
   "execution_count": 3,
   "metadata": {
    "collapsed": true
   },
   "outputs": [],
   "source": [
    "scaler = StandardScaler()\n",
    "scaled_data = scaler.fit_transform(iris.data)"
   ]
  },
  {
   "cell_type": "code",
   "execution_count": 4,
   "metadata": {
    "collapsed": false
   },
   "outputs": [],
   "source": [
    "labels = [0 if target == 0 else 1 for target in  iris.target]"
   ]
  },
  {
   "cell_type": "code",
   "execution_count": 5,
   "metadata": {
    "collapsed": true
   },
   "outputs": [],
   "source": [
    "train_X, test_X, train_y, test_y = train_test_split(scaled_data, labels, test_size = 0.25, random_state=33)"
   ]
  },
  {
   "cell_type": "markdown",
   "metadata": {},
   "source": [
    "# Neural Net"
   ]
  },
  {
   "cell_type": "code",
   "execution_count": 6,
   "metadata": {
    "collapsed": true
   },
   "outputs": [],
   "source": [
    "class NeuralNet(object):\n",
    "    def __init__(self, hidden_nodes, learning_rate=0.01, output_nodes=1, epochs=1000):\n",
    "        self.learning_rate = learning_rate\n",
    "        self.hidden_nodes = hidden_nodes\n",
    "        self.output_nodes = output_nodes\n",
    "        self.activation_function = self.sigmoid\n",
    "        self.epochs = epochs\n",
    "        \n",
    "    def sigmoid(self, x):\n",
    "        return 1.0 / (1.0 + np.exp(-x))\n",
    "    \n",
    "    def init_weights(self):\n",
    "        self.weights_input_to_hidden = np.random.rand(self.n_attributes + 1, self.hidden_nodes)\n",
    "        self.weights_hidden_to_output = np.random.rand(self.hidden_nodes + 1, self.output_nodes)\n",
    "    \n",
    "    def forward_pass(self, row):\n",
    "        hidden_inputs = np.dot(row, self.weights_input_to_hidden)\n",
    "        hidden_outputs = self.activation_function(hidden_inputs)\n",
    "        \n",
    "        hidden_outputs = np.append(hidden_outputs, [1])\n",
    "        \n",
    "        final_inputs = np.dot(hidden_outputs, self.weights_hidden_to_output)\n",
    "        final_outputs = self.activation_function(final_inputs)\n",
    "        \n",
    "        return hidden_outputs, final_outputs\n",
    "    \n",
    "    def backward_pass(self, row, hidden_outputs, final_outputs, target):\n",
    "        final_error = final_outputs*(1 - final_outputs)*(target - final_outputs)\n",
    "        hidden_error = hidden_outputs*(1 - hidden_outputs)*final_error*self.weights_hidden_to_output\n",
    "        hidden_error = hidden_error[:-1]\n",
    "        \n",
    "        self.weights_hidden_to_output += self.learning_rate*np.dot(hidden_outputs, final_error)\n",
    "        self.weights_input_to_hidden += self.learning_rate*np.dot(row.T, hidden_error.T)\n",
    "        \n",
    "    \n",
    "    def train(self, inputs, targets):\n",
    "        self.n_attributes = inputs.shape[1]\n",
    "        self.init_weights()\n",
    "        for i in range(0, self.epochs):\n",
    "            for row, target in zip(inputs, targets):\n",
    "                row = np.append(row, [1])\n",
    "                row = row.reshape((1, self.n_attributes + 1))\n",
    "\n",
    "                hidden_outputs, final_outputs = self.forward_pass(row)\n",
    "\n",
    "                hidden_outputs = hidden_outputs.reshape((self.hidden_nodes + 1, 1))\n",
    "                final_outputs = final_outputs.reshape((self.output_nodes, 1))\n",
    "\n",
    "                self.backward_pass(row, hidden_outputs, final_outputs, target)\n",
    "    \n",
    "    def predict(self, inputs):\n",
    "        results = []\n",
    "        for row in inputs:\n",
    "            row = np.append(row, [1])\n",
    "            row = row.reshape((1, self.n_attributes + 1))\n",
    "            hidden_outputs, final_outputs = self.forward_pass(row)\n",
    "            results.append(round(final_outputs[0]))\n",
    "        return results"
   ]
  },
  {
   "cell_type": "code",
   "execution_count": 7,
   "metadata": {
    "collapsed": false
   },
   "outputs": [],
   "source": [
    "NN = NeuralNet(hidden_nodes=3)"
   ]
  },
  {
   "cell_type": "code",
   "execution_count": 8,
   "metadata": {
    "collapsed": false
   },
   "outputs": [],
   "source": [
    "NN.train(train_X, train_y)"
   ]
  },
  {
   "cell_type": "code",
   "execution_count": 9,
   "metadata": {
    "collapsed": false
   },
   "outputs": [],
   "source": [
    "predictions = NN.predict(test_X)"
   ]
  },
  {
   "cell_type": "code",
   "execution_count": 10,
   "metadata": {
    "collapsed": false
   },
   "outputs": [
    {
     "data": {
      "text/plain": [
       "1.0"
      ]
     },
     "execution_count": 10,
     "metadata": {},
     "output_type": "execute_result"
    }
   ],
   "source": [
    "accuracy_score(predictions, test_y)"
   ]
  },
  {
   "cell_type": "code",
   "execution_count": null,
   "metadata": {
    "collapsed": true
   },
   "outputs": [],
   "source": []
  }
 ],
 "metadata": {
  "kernelspec": {
   "display_name": "Python 3",
   "language": "python",
   "name": "python3"
  },
  "language_info": {
   "codemirror_mode": {
    "name": "ipython",
    "version": 3
   },
   "file_extension": ".py",
   "mimetype": "text/x-python",
   "name": "python",
   "nbconvert_exporter": "python",
   "pygments_lexer": "ipython3",
   "version": "3.6.0"
  }
 },
 "nbformat": 4,
 "nbformat_minor": 0
}
