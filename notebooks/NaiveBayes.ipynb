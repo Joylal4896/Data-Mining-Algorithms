{
 "cells": [
  {
   "cell_type": "markdown",
   "metadata": {},
   "source": [
    "## NaiveBayes Classification"
   ]
  },
  {
   "cell_type": "code",
   "execution_count": 22,
   "metadata": {
    "collapsed": true
   },
   "outputs": [],
   "source": [
    "import numpy as np\n",
    "from sklearn.datasets import load_iris\n",
    "from sklearn.cross_validation import train_test_split\n",
    "from sklearn.preprocessing import StandardScaler\n",
    "from sklearn.metrics import accuracy_score"
   ]
  },
  {
   "cell_type": "markdown",
   "metadata": {},
   "source": [
    "## Data Pre-processing"
   ]
  },
  {
   "cell_type": "code",
   "execution_count": 5,
   "metadata": {
    "collapsed": false
   },
   "outputs": [],
   "source": [
    "data = load_iris().data\n",
    "labels = load_iris().target"
   ]
  },
  {
   "cell_type": "code",
   "execution_count": 9,
   "metadata": {
    "collapsed": false
   },
   "outputs": [],
   "source": [
    "scaler = StandardScaler()\n",
    "data = scaler.fit_transform(data)"
   ]
  },
  {
   "cell_type": "code",
   "execution_count": 10,
   "metadata": {
    "collapsed": true
   },
   "outputs": [],
   "source": [
    "train_X, test_X, train_y, test_y = train_test_split(data, labels, test_size = 0.25, random_state=33)"
   ]
  },
  {
   "cell_type": "markdown",
   "metadata": {},
   "source": [
    "## Naive Bayes"
   ]
  },
  {
   "cell_type": "code",
   "execution_count": 24,
   "metadata": {
    "collapsed": false
   },
   "outputs": [],
   "source": [
    "class GaussianNBClassifier(object):\n",
    "    def __init__(self):\n",
    "        self.class_prob =[]\n",
    "    \n",
    "    def init_probs(self):\n",
    "        self.classes = np.unique(self.y)\n",
    "        self.num_classes = len(self.classes)\n",
    "        for Class in range(self.num_classes):\n",
    "            class_locs = np.where(self.y == self.classes[Class])\n",
    "            self.class_prob.append(len(class_locs[0])/self.num_classes)\n",
    "        \n",
    "    def train(self, X, y):\n",
    "        self.X = X\n",
    "        self.y = y\n",
    "        self.init_probs()\n",
    "    \n",
    "    def predict(self, T):\n",
    "        predictions = []\n",
    "        for t in T:\n",
    "            tuple_total_prob = 0\n",
    "            tuple_class_prob = []\n",
    "            \n",
    "            for Class in self.classes:\n",
    "                class_locs = np.where(self.y == Class)[0]\n",
    "                tuple_prob = 1\n",
    "                \n",
    "                for i in range(len(t)):\n",
    "                    attribute_mean = np.mean(self.X[class_locs, i])\n",
    "                    attribute_std = np.std(self.X[class_locs, i])\n",
    "                    prob = np.exp(((t[i] - attribute_mean)**2)/(2*attribute_std**2))/np.sqrt(2*np.pi*attribute_std)\n",
    "                    tuple_prob *= prob\n",
    "                \n",
    "                tuple_total_prob += tuple_prob\n",
    "                tuple_class_prob.append(tuple_prob)\n",
    "            \n",
    "            tuple_class_prob /= tuple_total_prob\n",
    "            prediction = np.argsort(tuple_class_prob)[0]\n",
    "            predictions.append(prediction)\n",
    "        \n",
    "        return predictions"
   ]
  },
  {
   "cell_type": "code",
   "execution_count": 25,
   "metadata": {
    "collapsed": true
   },
   "outputs": [],
   "source": [
    "clf = GaussianNBClassifier()"
   ]
  },
  {
   "cell_type": "code",
   "execution_count": 26,
   "metadata": {
    "collapsed": true
   },
   "outputs": [],
   "source": [
    "clf.train(train_X, train_y)"
   ]
  },
  {
   "cell_type": "code",
   "execution_count": 27,
   "metadata": {
    "collapsed": false
   },
   "outputs": [],
   "source": [
    "predictions = clf.predict(test_X)"
   ]
  },
  {
   "cell_type": "code",
   "execution_count": 28,
   "metadata": {
    "collapsed": false
   },
   "outputs": [
    {
     "data": {
      "text/plain": [
       "0.94736842105263153"
      ]
     },
     "execution_count": 28,
     "metadata": {},
     "output_type": "execute_result"
    }
   ],
   "source": [
    "accuracy_score(test_y, predictions)"
   ]
  }
 ],
 "metadata": {
  "anaconda-cloud": {},
  "kernelspec": {
   "display_name": "Python 3",
   "language": "python",
   "name": "python3"
  },
  "language_info": {
   "codemirror_mode": {
    "name": "ipython",
    "version": 3
   },
   "file_extension": ".py",
   "mimetype": "text/x-python",
   "name": "python",
   "nbconvert_exporter": "python",
   "pygments_lexer": "ipython3",
   "version": "3.6.0"
  }
 },
 "nbformat": 4,
 "nbformat_minor": 0
}
